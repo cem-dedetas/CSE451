{
 "cells": [
  {
   "cell_type": "code",
   "execution_count": 10,
   "metadata": {},
   "outputs": [],
   "source": [
    "from treelib import Node, Tree\n",
    "import numpy as np \n",
    "import pandas as pd \n",
    "from collections import Counter\n"
   ]
  },
  {
   "cell_type": "code",
   "execution_count": 11,
   "metadata": {
    "scrolled": true
   },
   "outputs": [],
   "source": [
    "#GETTING THE DATASET\n",
    "\n",
    "dataset = [['Milk', 'Onion', 'Nutmeg', 'Beans', 'Eggs', 'Yogurt'],\n",
    "           ['Dill', 'Onion', 'Nutmeg', 'Beans', 'Eggs', 'Yogurt'],\n",
    "           ['Milk', 'Apple', 'Beans', 'Eggs'],\n",
    "           ['Milk', 'Unicorn', 'Corn', 'Beans', 'Yogurt'],\n",
    "           ['Corn', 'Onion', 'Onion', 'Beans', 'Ice cream', 'Eggs']]\n",
    "min_sup=2"
   ]
  },
  {
   "cell_type": "code",
   "execution_count": 12,
   "metadata": {
    "scrolled": true
   },
   "outputs": [
    {
     "name": "stdout",
     "output_type": "stream",
     "text": [
      "Dill\n",
      "Apple\n",
      "Unicorn\n",
      "Ice cream\n"
     ]
    },
    {
     "data": {
      "text/plain": [
       "{'Beans': [5],\n",
       " 'Onion': [4],\n",
       " 'Eggs': [4],\n",
       " 'Milk': [3],\n",
       " 'Yogurt': [3],\n",
       " 'Nutmeg': [2],\n",
       " 'Corn': [2]}"
      ]
     },
     "execution_count": 12,
     "metadata": {},
     "output_type": "execute_result"
    }
   ],
   "source": [
    "#GETTING THE SUPPORT COUNT AND MAKING A DICTIONARY , WHICH HOLDS THE SUPPORT COUNT\n",
    "d1=[]\n",
    "for i in dataset:\n",
    "    for j in i:\n",
    "        d1.append(j)\n",
    "        \n",
    "names = list(Counter(d1).keys())\n",
    "supp = list(Counter(d1).values())\n",
    "d = {'Name': names, 'Supp': supp}\n",
    "df = pd.DataFrame(d)\n",
    "sd = df.sort_values(by=\"Supp\", ascending=False)\n",
    "dic = sd.to_dict('split')\n",
    "sortedList = dic[\"data\"]\n",
    "\n",
    "popped = 0\n",
    "for i in range(len(sortedList)):\n",
    "    \n",
    "    if sortedList[i-popped][1]<min_sup:\n",
    "        print(sortedList[i-popped][0])\n",
    "        sortedList.pop(i-popped)\n",
    "        popped +=1\n",
    "    \n",
    "\n",
    "    \n",
    "sortedDict = {}\n",
    "for elem in sortedList:\n",
    "    try:\n",
    "        sortedDict[elem[0]].append(elem[1])\n",
    "    except KeyError:\n",
    "        sortedDict[elem[0]] = [elem[1]]  \n",
    "sortedDict\n",
    "\n",
    "\n"
   ]
  },
  {
   "cell_type": "code",
   "execution_count": 13,
   "metadata": {},
   "outputs": [],
   "source": [
    "sortedData=[]\n",
    "for lst in dataset:\n",
    "    sublist=[]\n",
    "    for i in sortedDict:\n",
    "        if i in lst:\n",
    "            sublist.append(i)\n",
    "    sortedData.append(sublist)\n",
    "#SORTING THE DATA ACCORDING TO THE SUPPORT COUNT"
   ]
  },
  {
   "cell_type": "code",
   "execution_count": 14,
   "metadata": {},
   "outputs": [
    {
     "data": {
      "text/plain": [
       "[['Beans', 'Onion', 'Eggs', 'Milk', 'Yogurt', 'Nutmeg'],\n",
       " ['Beans', 'Onion', 'Eggs', 'Yogurt', 'Nutmeg'],\n",
       " ['Beans', 'Eggs', 'Milk'],\n",
       " ['Beans', 'Milk', 'Yogurt', 'Corn'],\n",
       " ['Beans', 'Onion', 'Eggs', 'Corn']]"
      ]
     },
     "execution_count": 14,
     "metadata": {},
     "output_type": "execute_result"
    }
   ],
   "source": [
    "sortedData"
   ]
  },
  {
   "cell_type": "code",
   "execution_count": 15,
   "metadata": {},
   "outputs": [],
   "source": [
    "#MAKING THE TREE STUCTURE\n",
    "\n",
    "class TreeNode:\n",
    "    def __init__(self,name,count):\n",
    "        self.name = name\n",
    "        self.count = count\n",
    "        self.children = []\n",
    "        self.parent = None\n",
    "        \n",
    "    def addChild(self, child):\n",
    "        child.parent = self\n",
    "        self.children.append(child)\n",
    "    \n",
    "    def get_level(self):\n",
    "        level = 0\n",
    "        p = self.parent\n",
    "        while p:\n",
    "            level += 1\n",
    "            p = p.parent\n",
    "\n",
    "        return level\n",
    "\n",
    "    def visualise(self):\n",
    "        spaces = ' ' * self.get_level() * 6\n",
    "        prefix =spaces + \"└────»\" if self.parent else \"\"\n",
    "        print(prefix + self.name + \"(\"+str(self.count) +\")\")\n",
    "        if self.children:\n",
    "            for child in self.children:\n",
    "                child.visualise()      "
   ]
  },
  {
   "cell_type": "code",
   "execution_count": 16,
   "metadata": {},
   "outputs": [],
   "source": [
    "root = TreeNode(\"Root\",0)\n",
    "temp = root\n",
    "found =0\n",
    "for itemList in sortedData:\n",
    "    temp = root\n",
    "    for i in itemList:\n",
    "        found =0\n",
    "        for j in temp.children:\n",
    "            if( i ==j.name ):\n",
    "                j.count +=1\n",
    "                found = 1\n",
    "                temp=j\n",
    "        if (found==0):\n",
    "            temp.addChild(TreeNode(i,1))\n",
    "            temp = temp.children[len(temp.children)-1]\n",
    "            \n",
    "#CREATING THE TREE FROM THE SORTED DATA"
   ]
  },
  {
   "cell_type": "code",
   "execution_count": 17,
   "metadata": {},
   "outputs": [
    {
     "name": "stdout",
     "output_type": "stream",
     "text": [
      "Root(0)\n",
      "      └────»Beans(5)\n",
      "            └────»Onion(3)\n",
      "                  └────»Eggs(3)\n",
      "                        └────»Milk(1)\n",
      "                              └────»Yogurt(1)\n",
      "                                    └────»Nutmeg(1)\n",
      "                        └────»Yogurt(1)\n",
      "                              └────»Nutmeg(1)\n",
      "                        └────»Corn(1)\n",
      "            └────»Eggs(1)\n",
      "                  └────»Milk(1)\n",
      "            └────»Milk(1)\n",
      "                  └────»Yogurt(1)\n",
      "                        └────»Corn(1)\n"
     ]
    }
   ],
   "source": [
    "#THE TREE\n",
    "\n",
    "root.visualise()"
   ]
  },
  {
   "cell_type": "code",
   "execution_count": 19,
   "metadata": {},
   "outputs": [
    {
     "name": "stdout",
     "output_type": "stream",
     "text": [
      "Root Beans Onion Eggs Milk \n",
      "Root Beans Eggs Milk \n",
      "Root Beans Milk \n"
     ]
    },
    {
     "data": {
      "text/plain": [
       "['Root Beans Onion Eggs Milk ', 'Root Beans Eggs Milk ', 'Root Beans Milk ']"
      ]
     },
     "execution_count": 19,
     "metadata": {},
     "output_type": "execute_result"
    }
   ],
   "source": [
    "#FINDING THE PATH TO THE ROOT\n",
    "\n",
    "saved = root\n",
    "temp = []\n",
    "\n",
    "def findFP(root, elem,path,temp):\n",
    "    \n",
    "    if(root.name!=None):\n",
    "        path +=root.name+\" \"\n",
    "    \n",
    "    if(root.name == elem):\n",
    "        temp.append(path)\n",
    "        print(path)\n",
    "    elif (len(root.children)==0):\n",
    "        return \n",
    "    else:\n",
    "        for child in root.children:\n",
    "            a= findFP(child,elem,path,temp)\n",
    "            if(a!=None):\n",
    "                if(path!=None):\n",
    "                    return path +\" \" +a\n",
    "findFP(root,\"Milk\",\"\",temp)\n",
    "temp"
   ]
  },
  {
   "cell_type": "code",
   "execution_count": null,
   "metadata": {},
   "outputs": [],
   "source": []
  }
 ],
 "metadata": {
  "kernelspec": {
   "display_name": "Python 3",
   "language": "python",
   "name": "python3"
  },
  "language_info": {
   "codemirror_mode": {
    "name": "ipython",
    "version": 3
   },
   "file_extension": ".py",
   "mimetype": "text/x-python",
   "name": "python",
   "nbconvert_exporter": "python",
   "pygments_lexer": "ipython3",
   "version": "3.8.5"
  }
 },
 "nbformat": 4,
 "nbformat_minor": 4
}
